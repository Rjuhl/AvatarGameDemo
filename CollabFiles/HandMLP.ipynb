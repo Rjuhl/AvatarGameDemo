{
  "nbformat": 4,
  "nbformat_minor": 0,
  "metadata": {
    "colab": {
      "provenance": []
    },
    "kernelspec": {
      "name": "python3",
      "display_name": "Python 3"
    },
    "language_info": {
      "name": "python"
    },
    "widgets": {
      "application/vnd.jupyter.widget-state+json": {
        "1141f0057bd54236ab86f13345a626ca": {
          "model_module": "@jupyter-widgets/controls",
          "model_name": "HBoxModel",
          "model_module_version": "1.5.0",
          "state": {
            "_dom_classes": [],
            "_model_module": "@jupyter-widgets/controls",
            "_model_module_version": "1.5.0",
            "_model_name": "HBoxModel",
            "_view_count": null,
            "_view_module": "@jupyter-widgets/controls",
            "_view_module_version": "1.5.0",
            "_view_name": "HBoxView",
            "box_style": "",
            "children": [
              "IPY_MODEL_e52cf11238a74f0c8f47b56ad65f2db4",
              "IPY_MODEL_f2346635d96143ffb5b09206735ff82f",
              "IPY_MODEL_20552c65baa9491087d30b7effdaf454"
            ],
            "layout": "IPY_MODEL_adb37cdc7dcd4e45abdd85394d487c1b"
          }
        },
        "e52cf11238a74f0c8f47b56ad65f2db4": {
          "model_module": "@jupyter-widgets/controls",
          "model_name": "HTMLModel",
          "model_module_version": "1.5.0",
          "state": {
            "_dom_classes": [],
            "_model_module": "@jupyter-widgets/controls",
            "_model_module_version": "1.5.0",
            "_model_name": "HTMLModel",
            "_view_count": null,
            "_view_module": "@jupyter-widgets/controls",
            "_view_module_version": "1.5.0",
            "_view_name": "HTMLView",
            "description": "",
            "description_tooltip": null,
            "layout": "IPY_MODEL_ab8052c615244bed95e836af26670113",
            "placeholder": "​",
            "style": "IPY_MODEL_04591418a3fb4450ab349d1a91967d4f",
            "value": "Training -- Best Acc = 0: 100%"
          }
        },
        "f2346635d96143ffb5b09206735ff82f": {
          "model_module": "@jupyter-widgets/controls",
          "model_name": "FloatProgressModel",
          "model_module_version": "1.5.0",
          "state": {
            "_dom_classes": [],
            "_model_module": "@jupyter-widgets/controls",
            "_model_module_version": "1.5.0",
            "_model_name": "FloatProgressModel",
            "_view_count": null,
            "_view_module": "@jupyter-widgets/controls",
            "_view_module_version": "1.5.0",
            "_view_name": "ProgressView",
            "bar_style": "success",
            "description": "",
            "description_tooltip": null,
            "layout": "IPY_MODEL_878d7d7e34a343e78c5fd116cf6a2c03",
            "max": 100,
            "min": 0,
            "orientation": "horizontal",
            "style": "IPY_MODEL_588f092fe1b345a7842bcfba0b1efa2a",
            "value": 100
          }
        },
        "20552c65baa9491087d30b7effdaf454": {
          "model_module": "@jupyter-widgets/controls",
          "model_name": "HTMLModel",
          "model_module_version": "1.5.0",
          "state": {
            "_dom_classes": [],
            "_model_module": "@jupyter-widgets/controls",
            "_model_module_version": "1.5.0",
            "_model_name": "HTMLModel",
            "_view_count": null,
            "_view_module": "@jupyter-widgets/controls",
            "_view_module_version": "1.5.0",
            "_view_name": "HTMLView",
            "description": "",
            "description_tooltip": null,
            "layout": "IPY_MODEL_4c6b68b01cb2494bb1b4d68c0ff2a09f",
            "placeholder": "​",
            "style": "IPY_MODEL_2105d319fc92499bbecfb35be58f627c",
            "value": " 100/100 [33:11&lt;00:00, 20.43s/it]"
          }
        },
        "adb37cdc7dcd4e45abdd85394d487c1b": {
          "model_module": "@jupyter-widgets/base",
          "model_name": "LayoutModel",
          "model_module_version": "1.2.0",
          "state": {
            "_model_module": "@jupyter-widgets/base",
            "_model_module_version": "1.2.0",
            "_model_name": "LayoutModel",
            "_view_count": null,
            "_view_module": "@jupyter-widgets/base",
            "_view_module_version": "1.2.0",
            "_view_name": "LayoutView",
            "align_content": null,
            "align_items": null,
            "align_self": null,
            "border": null,
            "bottom": null,
            "display": null,
            "flex": null,
            "flex_flow": null,
            "grid_area": null,
            "grid_auto_columns": null,
            "grid_auto_flow": null,
            "grid_auto_rows": null,
            "grid_column": null,
            "grid_gap": null,
            "grid_row": null,
            "grid_template_areas": null,
            "grid_template_columns": null,
            "grid_template_rows": null,
            "height": null,
            "justify_content": null,
            "justify_items": null,
            "left": null,
            "margin": null,
            "max_height": null,
            "max_width": null,
            "min_height": null,
            "min_width": null,
            "object_fit": null,
            "object_position": null,
            "order": null,
            "overflow": null,
            "overflow_x": null,
            "overflow_y": null,
            "padding": null,
            "right": null,
            "top": null,
            "visibility": null,
            "width": null
          }
        },
        "ab8052c615244bed95e836af26670113": {
          "model_module": "@jupyter-widgets/base",
          "model_name": "LayoutModel",
          "model_module_version": "1.2.0",
          "state": {
            "_model_module": "@jupyter-widgets/base",
            "_model_module_version": "1.2.0",
            "_model_name": "LayoutModel",
            "_view_count": null,
            "_view_module": "@jupyter-widgets/base",
            "_view_module_version": "1.2.0",
            "_view_name": "LayoutView",
            "align_content": null,
            "align_items": null,
            "align_self": null,
            "border": null,
            "bottom": null,
            "display": null,
            "flex": null,
            "flex_flow": null,
            "grid_area": null,
            "grid_auto_columns": null,
            "grid_auto_flow": null,
            "grid_auto_rows": null,
            "grid_column": null,
            "grid_gap": null,
            "grid_row": null,
            "grid_template_areas": null,
            "grid_template_columns": null,
            "grid_template_rows": null,
            "height": null,
            "justify_content": null,
            "justify_items": null,
            "left": null,
            "margin": null,
            "max_height": null,
            "max_width": null,
            "min_height": null,
            "min_width": null,
            "object_fit": null,
            "object_position": null,
            "order": null,
            "overflow": null,
            "overflow_x": null,
            "overflow_y": null,
            "padding": null,
            "right": null,
            "top": null,
            "visibility": null,
            "width": null
          }
        },
        "04591418a3fb4450ab349d1a91967d4f": {
          "model_module": "@jupyter-widgets/controls",
          "model_name": "DescriptionStyleModel",
          "model_module_version": "1.5.0",
          "state": {
            "_model_module": "@jupyter-widgets/controls",
            "_model_module_version": "1.5.0",
            "_model_name": "DescriptionStyleModel",
            "_view_count": null,
            "_view_module": "@jupyter-widgets/base",
            "_view_module_version": "1.2.0",
            "_view_name": "StyleView",
            "description_width": ""
          }
        },
        "878d7d7e34a343e78c5fd116cf6a2c03": {
          "model_module": "@jupyter-widgets/base",
          "model_name": "LayoutModel",
          "model_module_version": "1.2.0",
          "state": {
            "_model_module": "@jupyter-widgets/base",
            "_model_module_version": "1.2.0",
            "_model_name": "LayoutModel",
            "_view_count": null,
            "_view_module": "@jupyter-widgets/base",
            "_view_module_version": "1.2.0",
            "_view_name": "LayoutView",
            "align_content": null,
            "align_items": null,
            "align_self": null,
            "border": null,
            "bottom": null,
            "display": null,
            "flex": null,
            "flex_flow": null,
            "grid_area": null,
            "grid_auto_columns": null,
            "grid_auto_flow": null,
            "grid_auto_rows": null,
            "grid_column": null,
            "grid_gap": null,
            "grid_row": null,
            "grid_template_areas": null,
            "grid_template_columns": null,
            "grid_template_rows": null,
            "height": null,
            "justify_content": null,
            "justify_items": null,
            "left": null,
            "margin": null,
            "max_height": null,
            "max_width": null,
            "min_height": null,
            "min_width": null,
            "object_fit": null,
            "object_position": null,
            "order": null,
            "overflow": null,
            "overflow_x": null,
            "overflow_y": null,
            "padding": null,
            "right": null,
            "top": null,
            "visibility": null,
            "width": null
          }
        },
        "588f092fe1b345a7842bcfba0b1efa2a": {
          "model_module": "@jupyter-widgets/controls",
          "model_name": "ProgressStyleModel",
          "model_module_version": "1.5.0",
          "state": {
            "_model_module": "@jupyter-widgets/controls",
            "_model_module_version": "1.5.0",
            "_model_name": "ProgressStyleModel",
            "_view_count": null,
            "_view_module": "@jupyter-widgets/base",
            "_view_module_version": "1.2.0",
            "_view_name": "StyleView",
            "bar_color": null,
            "description_width": ""
          }
        },
        "4c6b68b01cb2494bb1b4d68c0ff2a09f": {
          "model_module": "@jupyter-widgets/base",
          "model_name": "LayoutModel",
          "model_module_version": "1.2.0",
          "state": {
            "_model_module": "@jupyter-widgets/base",
            "_model_module_version": "1.2.0",
            "_model_name": "LayoutModel",
            "_view_count": null,
            "_view_module": "@jupyter-widgets/base",
            "_view_module_version": "1.2.0",
            "_view_name": "LayoutView",
            "align_content": null,
            "align_items": null,
            "align_self": null,
            "border": null,
            "bottom": null,
            "display": null,
            "flex": null,
            "flex_flow": null,
            "grid_area": null,
            "grid_auto_columns": null,
            "grid_auto_flow": null,
            "grid_auto_rows": null,
            "grid_column": null,
            "grid_gap": null,
            "grid_row": null,
            "grid_template_areas": null,
            "grid_template_columns": null,
            "grid_template_rows": null,
            "height": null,
            "justify_content": null,
            "justify_items": null,
            "left": null,
            "margin": null,
            "max_height": null,
            "max_width": null,
            "min_height": null,
            "min_width": null,
            "object_fit": null,
            "object_position": null,
            "order": null,
            "overflow": null,
            "overflow_x": null,
            "overflow_y": null,
            "padding": null,
            "right": null,
            "top": null,
            "visibility": null,
            "width": null
          }
        },
        "2105d319fc92499bbecfb35be58f627c": {
          "model_module": "@jupyter-widgets/controls",
          "model_name": "DescriptionStyleModel",
          "model_module_version": "1.5.0",
          "state": {
            "_model_module": "@jupyter-widgets/controls",
            "_model_module_version": "1.5.0",
            "_model_name": "DescriptionStyleModel",
            "_view_count": null,
            "_view_module": "@jupyter-widgets/base",
            "_view_module_version": "1.2.0",
            "_view_name": "StyleView",
            "description_width": ""
          }
        }
      }
    }
  },
  "cells": [
    {
      "cell_type": "code",
      "execution_count": null,
      "metadata": {
        "id": "olYkxmyC0eqe"
      },
      "outputs": [],
      "source": [
        "import torch\n",
        "import torch.nn as nn\n",
        "import torch.nn.functional as F\n",
        "import numpy as np\n",
        "import torch.optim as optim\n",
        "from torch.optim import lr_scheduler\n",
        "import torchvision\n",
        "from torchvision import datasets, models, transforms\n",
        "from torch.utils.data import Dataset, DataLoader, random_split, SubsetRandomSampler\n",
        "import matplotlib.pyplot as plt\n",
        "import time\n",
        "import os\n",
        "from PIL import Image\n",
        "from bisect import bisect_left\n",
        "import math\n",
        "from sklearn.metrics import balanced_accuracy_score\n",
        "from tqdm.notebook import tqdm\n",
        "import uuid\n",
        "from datetime import datetime\n",
        "import tensorflow as tf\n",
        "import time"
      ]
    },
    {
      "cell_type": "code",
      "source": [
        "# Globals\n",
        "EPOCHS = 100\n",
        "BATCH_SIZE = 1024\n",
        "NUM_WORKERS = 2\n",
        "LR_DECAY = 0.95\n",
        "LOSS_WEIGHTS = torch.tensor([2.0, 2.0, 1.0]) # torch.tensor([1.0, 1.0, 2.0])\n",
        "SPLIT = [0.7, 0.15, 0.15]\n",
        "TEST_WARMUP = 10\n",
        "NUM_TESTS = 1000\n",
        "learning_rate = 1e-2\n",
        "\n",
        "\n",
        "MODEL_SAVE_DIR = \"/content/drive/MyDrive/CS131FinalProject/Models\"\n",
        "HAND_TENSOR_DIR = \"/content/drive/MyDrive/CS131FinalProject/ArticulationData\"\n",
        "\n",
        "\n",
        "\"\"\"\n",
        "Note that I weight the 3 class which is for anything other then \"E\" and \"X\"\n",
        "higher so that the model is more likely to predict it over the other two classes.\n",
        "I do this to make it harder for players to make the the elemental gesture so\n",
        "they will need some practice. I will train with evens weights as well to see if\n",
        "model can predict the classes well\n",
        "\"\"\""
      ],
      "metadata": {
        "colab": {
          "base_uri": "https://localhost:8080/",
          "height": 53
        },
        "id": "vjq1pRwx5yDK",
        "outputId": "5d59fcf8-28c5-4b28-a36d-f68eb04054d9"
      },
      "execution_count": null,
      "outputs": [
        {
          "output_type": "execute_result",
          "data": {
            "text/plain": [
              "'\\nNote that I weight the 3 class which is for anything other then \"E\" and \"X\"\\nhigher so that the model is more likely to predict it over the other two classes.\\nI do this to make it harder for players to make the the elemental gesture so\\nthey will need some practice. I will train with evens weights as well to see if\\nmodel can predict the classes well\\n'"
            ],
            "application/vnd.google.colaboratory.intrinsic+json": {
              "type": "string"
            }
          },
          "metadata": {},
          "execution_count": 12
        }
      ]
    },
    {
      "cell_type": "code",
      "source": [
        "# Data\n",
        "x_data = np.load(os.path.join(HAND_TENSOR_DIR, \"x_tensor.npy\"))\n",
        "ax_data = np.load(os.path.join(HAND_TENSOR_DIR, \"aug_x_tensor.npy\"))\n",
        "e_data = np.load(os.path.join(HAND_TENSOR_DIR, \"e_tensor.npy\"))\n",
        "ae_data = np.load(os.path.join(HAND_TENSOR_DIR, \"aug_e_tensor.npy\"))\n",
        "o_data = np.load(os.path.join(HAND_TENSOR_DIR, \"other_tensor.npy\"))\n",
        "ao_data = np.load(os.path.join(HAND_TENSOR_DIR, \"aug_other_tensor.npy\"))\n",
        "\n",
        "print(x_data.shape, e_data.shape, o_data.shape)\n",
        "print(ax_data.shape, ae_data.shape, ao_data.shape)"
      ],
      "metadata": {
        "colab": {
          "base_uri": "https://localhost:8080/"
        },
        "id": "cVP2Nnyz6C_r",
        "outputId": "a4350002-339a-448d-d359-14cbe44eae2d"
      },
      "execution_count": null,
      "outputs": [
        {
          "output_type": "stream",
          "name": "stdout",
          "text": [
            "(5370, 63) (5390, 63) (141536, 63)\n",
            "(64440, 63) (64680, 63) (141536, 63)\n"
          ]
        }
      ]
    },
    {
      "cell_type": "code",
      "source": [
        "# Dataset tf.convert_to_tensor(numpy_array, dtype=float, name='tensor1')\n",
        "class HandDataSet(Dataset):\n",
        "  def __init__(self, data, labels):\n",
        "    self.data = data\n",
        "    self.labels = labels\n",
        "  def __len__(self):\n",
        "    return self.data.shape[0]\n",
        "  def __getitem__(self, idx):\n",
        "    return torch.from_numpy(self.data[idx]).to(torch.float32).squeeze(), torch.LongTensor([bisect_left(self.labels, idx)]).squeeze()"
      ],
      "metadata": {
        "id": "zubSJm3X00CK"
      },
      "execution_count": null,
      "outputs": []
    },
    {
      "cell_type": "code",
      "source": [
        "def saveDataSet(dataset, dir, name):\n",
        "  np.save(os.path.join(dir, str(name) + \"indices\"), dataset.indices)"
      ],
      "metadata": {
        "id": "mKOGT2z5cbQk"
      },
      "execution_count": null,
      "outputs": []
    },
    {
      "cell_type": "code",
      "source": [
        "def loadDataSet(dir, names=[\"train\", \"val\", \"test\"]):\n",
        "  x_data = np.load(os.path.join(HAND_TENSOR_DIR, \"x_tensor.npy\"))\n",
        "  ax_data = np.load(os.path.join(HAND_TENSOR_DIR, \"aug_x_tensor.npy\"))\n",
        "  e_data = np.load(os.path.join(HAND_TENSOR_DIR, \"e_tensor.npy\"))\n",
        "  ae_data = np.load(os.path.join(HAND_TENSOR_DIR, \"aug_e_tensor.npy\"))\n",
        "  o_data = np.load(os.path.join(HAND_TENSOR_DIR, \"other_tensor.npy\"))\n",
        "  ao_data = np.load(os.path.join(HAND_TENSOR_DIR, \"aug_other_tensor.npy\"))\n",
        "  data = np.concatenate((x_data, ax_data, e_data, ae_data, o_data, ao_data), axis=0)\n",
        "  x_size, e_size = x_data.shape[0] + ax_data.shape[0], e_data.shape[0] + ae_data.shape[0]\n",
        "  labels = [x_size - 1, x_size + e_size - 1]\n",
        "  train_indices = np.load(os.path.join(dir, names[0] + \"indices.npy\"))\n",
        "  val_indices = np.load(os.path.join(dir, names[1] + \"indices.npy\"))\n",
        "  test_indices = np.load(os.path.join(dir, names[2] + \"indices.npy\"))\n",
        "  return HandDataSet(data, labels), train_indices, val_indices, test_indices"
      ],
      "metadata": {
        "id": "UrkmT2BQfT6h"
      },
      "execution_count": null,
      "outputs": []
    },
    {
      "cell_type": "code",
      "source": [
        "# Dataloader\n",
        "generator = torch.Generator().manual_seed(42)\n",
        "\n",
        "data = np.concatenate((x_data, ax_data, e_data, ae_data, o_data, ao_data), axis=0)\n",
        "x_size, e_size = x_data.shape[0] + ax_data.shape[0], e_data.shape[0] + ae_data.shape[0]\n",
        "labels = [x_size - 1, x_size + e_size - 1]\n",
        "train_data, val_data, test_data = random_split(HandDataSet(data, labels), SPLIT, generator=generator)\n",
        "\n",
        "train_loader = DataLoader(train_data, batch_size=BATCH_SIZE, num_workers=NUM_WORKERS, shuffle=True)\n",
        "val_loader = DataLoader(val_data, batch_size=BATCH_SIZE, num_workers=NUM_WORKERS)"
      ],
      "metadata": {
        "id": "OmbqlhNo03aB"
      },
      "execution_count": null,
      "outputs": []
    },
    {
      "cell_type": "code",
      "source": [
        "# Simple MLP Model\n",
        "class HandMLP(nn.Module):\n",
        "  def __init__(self):\n",
        "    super().__init__()\n",
        "    self.input_size = 63\n",
        "    self.hidden1_size = 64\n",
        "    self.hidden2_size = 64\n",
        "    self.hidden3_size = 32\n",
        "    self.output_size = 3\n",
        "\n",
        "    self.layer1 = nn.Linear(self.input_size, self.hidden1_size)\n",
        "    self.layer2 = nn.Linear(self.hidden1_size, self.hidden2_size)\n",
        "    self.layer3 = nn.Linear(self.hidden2_size, self.hidden3_size)\n",
        "    self.output = nn.Linear(self.hidden3_size, self.output_size)\n",
        "\n",
        "  def forward(self, x):\n",
        "    x = F.relu(self.layer1(x))\n",
        "    x = F.relu(self.layer2(x))\n",
        "    x = F.relu(self.layer3(x))\n",
        "    x = self.output(x)\n",
        "    return x"
      ],
      "metadata": {
        "id": "_Gfg6DGJ04qQ"
      },
      "execution_count": null,
      "outputs": []
    },
    {
      "cell_type": "code",
      "source": [
        "model = HandMLP()\n",
        "criterion = nn.CrossEntropyLoss(weight=LOSS_WEIGHTS)\n",
        "optimizer = optim.Adam(model.parameters(), lr=learning_rate)\n",
        "scheduler = optim.lr_scheduler.MultiplicativeLR(optimizer, lr_lambda=lambda epoch: LR_DECAY)"
      ],
      "metadata": {
        "id": "ic26ekNNBO8i"
      },
      "execution_count": null,
      "outputs": []
    },
    {
      "cell_type": "code",
      "source": [
        "def get_balanced_acc(gt, y):\n",
        "  y = np.argmin(y.numpy() * -1, axis=1)\n",
        "  return balanced_accuracy_score(gt.numpy(), y)"
      ],
      "metadata": {
        "id": "N1A-ZwEyOU9b"
      },
      "execution_count": null,
      "outputs": []
    },
    {
      "cell_type": "code",
      "source": [
        "# Creating directory to save files to\n",
        "train_id = (str(uuid.uuid4()) + str(datetime.now())).replace(\" \", \"_\")\n",
        "save_path = os.path.join(MODEL_SAVE_DIR, train_id)\n",
        "os.mkdir(save_path)\n",
        "\n",
        "saveDataSet(train_data, save_path, \"train\")\n",
        "saveDataSet(val_data, save_path, \"val\")\n",
        "saveDataSet(test_data, save_path, \"test\")\n",
        "\n",
        "device = torch.device('cuda' if torch.cuda.is_available() else 'cpu')\n",
        "model.train()\n",
        "\n",
        "epoch_losses = []\n",
        "epoch_train_bal_accs = []\n",
        "epoch_val_bal_accs = []\n",
        "\n",
        "# Training loop\n",
        "best_bal_acc = 0\n",
        "for epoch in tqdm(range(EPOCHS), desc=f\"Training -- Best Acc = {round(best_bal_acc, 2)}\"):\n",
        "  epoch_loss, predictions, epoch_labels = 0, torch.tensor([]), torch.tensor([])\n",
        "  for i, (inputs, labels) in enumerate(train_loader):\n",
        "\n",
        "    # Move tensors to GPU\n",
        "    inputs = inputs.to(device)\n",
        "    labels = labels.to(device)\n",
        "\n",
        "    # Forward pass\n",
        "    outputs = model(inputs)\n",
        "    loss = criterion(outputs, labels)\n",
        "\n",
        "    # Backward and optimize\n",
        "    optimizer.zero_grad()\n",
        "    loss.backward()\n",
        "    optimizer.step()\n",
        "\n",
        "    with torch.no_grad():\n",
        "      epoch_loss += loss\n",
        "      predictions = torch.cat((predictions, outputs.squeeze()))\n",
        "      epoch_labels = torch.cat((epoch_labels, labels.squeeze()))\n",
        "\n",
        "\n",
        "  # Step the scheduler\n",
        "  scheduler.step()\n",
        "  epoch_train_bal_accs.append(get_balanced_acc(epoch_labels, predictions))\n",
        "  epoch_losses.append(epoch_loss)\n",
        "  print(f\"Epoch {epoch+1} complete! Learning Rate: {scheduler.get_last_lr()[0]} Loss: {epoch_loss} Accuracy: {epoch_train_bal_accs[-1]}\")\n",
        "\n",
        "  # Eval the validation set\n",
        "  with torch.no_grad():\n",
        "    val_loss, val_predictions, val_labels = 0, torch.tensor([]), torch.tensor([])\n",
        "    for i, (inputs, labels) in enumerate(val_loader):\n",
        "      outputs = model(inputs)\n",
        "      val_loss += criterion(outputs, labels)\n",
        "      val_predictions = torch.cat((val_predictions, outputs.squeeze()))\n",
        "      val_labels = torch.cat((val_labels, labels.squeeze()))\n",
        "\n",
        "    epoch_val_bal_accs.append(get_balanced_acc(val_labels, val_predictions))\n",
        "    if epoch_val_bal_accs[-1] > best_bal_acc:\n",
        "      best_bal_acc = epoch_val_bal_accs[-1]\n",
        "      torch.save({\n",
        "          'epoch': epoch,\n",
        "          'model_state_dict': model.state_dict(),\n",
        "          'optimizer_state_dict': optimizer.state_dict(),\n",
        "          'loss': loss\n",
        "          }, os.path.join(save_path, str(epoch)))\n",
        "\n",
        "np.save(os.path.join(save_path, \"loss.npy\"), np.array(epoch_losses))\n",
        "np.save(os.path.join(save_path, \"train_acc.npy\"), np.array(epoch_train_bal_accs))\n",
        "np.save(os.path.join(save_path, \"val_acc.npy\"), np.array(epoch_val_bal_accs))\n",
        "print('Training finished.')"
      ],
      "metadata": {
        "colab": {
          "base_uri": "https://localhost:8080/",
          "height": 1000,
          "referenced_widgets": [
            "1141f0057bd54236ab86f13345a626ca",
            "e52cf11238a74f0c8f47b56ad65f2db4",
            "f2346635d96143ffb5b09206735ff82f",
            "20552c65baa9491087d30b7effdaf454",
            "adb37cdc7dcd4e45abdd85394d487c1b",
            "ab8052c615244bed95e836af26670113",
            "04591418a3fb4450ab349d1a91967d4f",
            "878d7d7e34a343e78c5fd116cf6a2c03",
            "588f092fe1b345a7842bcfba0b1efa2a",
            "4c6b68b01cb2494bb1b4d68c0ff2a09f",
            "2105d319fc92499bbecfb35be58f627c"
          ]
        },
        "id": "WrljN9Dl1xts",
        "outputId": "d48e4bcd-5d61-4472-ab13-c13b2e99d042"
      },
      "execution_count": null,
      "outputs": [
        {
          "output_type": "display_data",
          "data": {
            "text/plain": [
              "Training -- Best Acc = 0:   0%|          | 0/100 [00:00<?, ?it/s]"
            ],
            "application/vnd.jupyter.widget-view+json": {
              "version_major": 2,
              "version_minor": 0,
              "model_id": "1141f0057bd54236ab86f13345a626ca"
            }
          },
          "metadata": {}
        },
        {
          "output_type": "stream",
          "name": "stdout",
          "text": [
            "Epoch 1 complete! Learning Rate: 0.0095 Loss: 168.35690307617188 Accuracy: 0.9376835452364932\n",
            "Epoch 2 complete! Learning Rate: 0.009025 Loss: 48.198486328125 Accuracy: 0.9855738555500894\n",
            "Epoch 3 complete! Learning Rate: 0.00857375 Loss: 35.997920989990234 Accuracy: 0.9892523856094296\n",
            "Epoch 4 complete! Learning Rate: 0.0081450625 Loss: 30.78412628173828 Accuracy: 0.9910567236849293\n",
            "Epoch 5 complete! Learning Rate: 0.007737809374999999 Loss: 25.438283920288086 Accuracy: 0.992236332963078\n",
            "Epoch 6 complete! Learning Rate: 0.007350918906249998 Loss: 21.496931076049805 Accuracy: 0.9937116046379986\n",
            "Epoch 7 complete! Learning Rate: 0.006983372960937498 Loss: 21.396928787231445 Accuracy: 0.9934961853445762\n",
            "Epoch 8 complete! Learning Rate: 0.006634204312890623 Loss: 17.055593490600586 Accuracy: 0.9949010274738495\n",
            "Epoch 9 complete! Learning Rate: 0.006302494097246091 Loss: 18.411006927490234 Accuracy: 0.994581189844799\n",
            "Epoch 10 complete! Learning Rate: 0.005987369392383786 Loss: 15.479960441589355 Accuracy: 0.9952801733992335\n",
            "Epoch 11 complete! Learning Rate: 0.005688000922764597 Loss: 14.312736511230469 Accuracy: 0.9956444198827293\n",
            "Epoch 12 complete! Learning Rate: 0.005403600876626367 Loss: 13.17895793914795 Accuracy: 0.9959411540917663\n",
            "Epoch 13 complete! Learning Rate: 0.005133420832795048 Loss: 12.877365112304688 Accuracy: 0.9961745142514628\n",
            "Epoch 14 complete! Learning Rate: 0.0048767497911552955 Loss: 11.957253456115723 Accuracy: 0.9965015626886746\n",
            "Epoch 15 complete! Learning Rate: 0.00463291230159753 Loss: 9.832159042358398 Accuracy: 0.9971639760936194\n",
            "Epoch 16 complete! Learning Rate: 0.0044012666865176535 Loss: 10.558409690856934 Accuracy: 0.9968483847554398\n",
            "Epoch 17 complete! Learning Rate: 0.004181203352191771 Loss: 8.66638469696045 Accuracy: 0.9974734106649116\n",
            "Epoch 18 complete! Learning Rate: 0.003972143184582182 Loss: 9.192798614501953 Accuracy: 0.9972625345369387\n",
            "Epoch 19 complete! Learning Rate: 0.0037735360253530726 Loss: 7.943112373352051 Accuracy: 0.9976497731687782\n",
            "Epoch 20 complete! Learning Rate: 0.0035848592240854188 Loss: 7.960514545440674 Accuracy: 0.9976055491632589\n",
            "Epoch 21 complete! Learning Rate: 0.0034056162628811476 Loss: 7.132927417755127 Accuracy: 0.9978583259503009\n",
            "Epoch 22 complete! Learning Rate: 0.0032353354497370902 Loss: 6.837609767913818 Accuracy: 0.9979092057524216\n",
            "Epoch 23 complete! Learning Rate: 0.0030735686772502355 Loss: 6.353549003601074 Accuracy: 0.9980573963099569\n",
            "Epoch 24 complete! Learning Rate: 0.0029198902433877237 Loss: 5.856290340423584 Accuracy: 0.9983302135992774\n",
            "Epoch 25 complete! Learning Rate: 0.0027738957312183374 Loss: 5.360700607299805 Accuracy: 0.9984116702531972\n",
            "Epoch 26 complete! Learning Rate: 0.0026352009446574203 Loss: 5.038523197174072 Accuracy: 0.9985185580982626\n",
            "Epoch 27 complete! Learning Rate: 0.002503440897424549 Loss: 4.989429950714111 Accuracy: 0.9985018477376064\n",
            "Epoch 28 complete! Learning Rate: 0.0023782688525533216 Loss: 4.88907527923584 Accuracy: 0.9985592628021718\n",
            "Epoch 29 complete! Learning Rate: 0.0022593554099256553 Loss: 4.2781782150268555 Accuracy: 0.9987603638828002\n",
            "Epoch 30 complete! Learning Rate: 0.0021463876394293723 Loss: 3.9471840858459473 Accuracy: 0.9988038909009124\n",
            "Epoch 31 complete! Learning Rate: 0.0020390682574579037 Loss: 3.44950008392334 Accuracy: 0.9989652209603297\n",
            "Epoch 32 complete! Learning Rate: 0.0019371148445850085 Loss: 3.5717220306396484 Accuracy: 0.9989998463208876\n",
            "Epoch 33 complete! Learning Rate: 0.0018402591023557579 Loss: 3.0260367393493652 Accuracy: 0.9990672816365921\n",
            "Epoch 34 complete! Learning Rate: 0.0017482461472379698 Loss: 2.680525779724121 Accuracy: 0.9992249116809542\n",
            "Epoch 35 complete! Learning Rate: 0.0016608338398760713 Loss: 3.0001728534698486 Accuracy: 0.9990466991695599\n",
            "Epoch 36 complete! Learning Rate: 0.0015777921478822676 Loss: 2.8764538764953613 Accuracy: 0.9991351987377622\n",
            "Epoch 37 complete! Learning Rate: 0.001498902540488154 Loss: 2.776552438735962 Accuracy: 0.9991363948685034\n",
            "Epoch 38 complete! Learning Rate: 0.0014239574134637463 Loss: 2.122551679611206 Accuracy: 0.9993401118590987\n",
            "Epoch 39 complete! Learning Rate: 0.0013527595427905588 Loss: 1.8810464143753052 Accuracy: 0.9993777488694287\n",
            "Epoch 40 complete! Learning Rate: 0.0012851215656510308 Loss: 2.040008306503296 Accuracy: 0.9993809541658321\n",
            "Epoch 41 complete! Learning Rate: 0.0012208654873684791 Loss: 1.7843011617660522 Accuracy: 0.9994402235489869\n",
            "Epoch 42 complete! Learning Rate: 0.0011598222130000551 Loss: 1.9198886156082153 Accuracy: 0.9993826234599147\n",
            "Epoch 43 complete! Learning Rate: 0.0011018311023500522 Loss: 1.4188532829284668 Accuracy: 0.9995355337608633\n",
            "Epoch 44 complete! Learning Rate: 0.0010467395472325495 Loss: 1.4482237100601196 Accuracy: 0.999576156730174\n",
            "Epoch 45 complete! Learning Rate: 0.000994402569870922 Loss: 1.576185703277588 Accuracy: 0.9995201743780205\n",
            "Epoch 46 complete! Learning Rate: 0.0009446824413773759 Loss: 1.505829930305481 Accuracy: 0.9995284134230444\n",
            "Epoch 47 complete! Learning Rate: 0.0008974483193085071 Loss: 1.2456449270248413 Accuracy: 0.9995913698880683\n",
            "Epoch 48 complete! Learning Rate: 0.0008525759033430817 Loss: 1.2342698574066162 Accuracy: 0.9996119695993487\n",
            "Epoch 49 complete! Learning Rate: 0.0008099471081759276 Loss: 1.17799973487854 Accuracy: 0.9996508156736063\n",
            "Epoch 50 complete! Learning Rate: 0.0007694497527671312 Loss: 1.2086795568466187 Accuracy: 0.9996066949579955\n",
            "Epoch 51 complete! Learning Rate: 0.0007309772651287747 Loss: 0.900293231010437 Accuracy: 0.9997799511443056\n",
            "Epoch 52 complete! Learning Rate: 0.0006944284018723359 Loss: 0.8684046268463135 Accuracy: 0.9997373190093327\n",
            "Epoch 53 complete! Learning Rate: 0.0006597069817787191 Loss: 0.9375446438789368 Accuracy: 0.9996880612551928\n",
            "Epoch 54 complete! Learning Rate: 0.0006267216326897832 Loss: 0.9467149972915649 Accuracy: 0.9997236289205728\n",
            "Epoch 55 complete! Learning Rate: 0.000595385551055294 Loss: 0.9179452657699585 Accuracy: 0.9997100893678231\n",
            "Epoch 56 complete! Learning Rate: 0.0005656162735025292 Loss: 0.6643484830856323 Accuracy: 0.9997832209310588\n",
            "Epoch 57 complete! Learning Rate: 0.0005373354598274027 Loss: 0.8001936078071594 Accuracy: 0.9997508628731442\n",
            "Epoch 58 complete! Learning Rate: 0.0005104686868360325 Loss: 0.7048727869987488 Accuracy: 0.9998034850818219\n",
            "Epoch 59 complete! Learning Rate: 0.0004849452524942309 Loss: 0.5577961802482605 Accuracy: 0.9998509143837445\n",
            "Epoch 60 complete! Learning Rate: 0.00046069798986951934 Loss: 0.6171117424964905 Accuracy: 0.9998101451894854\n",
            "Epoch 61 complete! Learning Rate: 0.0004376630903760434 Loss: 0.5079957246780396 Accuracy: 0.9998220713163782\n",
            "Epoch 62 complete! Learning Rate: 0.00041577993585724117 Loss: 0.5087430477142334 Accuracy: 0.999837366208871\n",
            "Epoch 63 complete! Learning Rate: 0.0003949909390643791 Loss: 0.5138950347900391 Accuracy: 0.9998542702161582\n",
            "Epoch 64 complete! Learning Rate: 0.0003752413921111601 Loss: 0.5431631207466125 Accuracy: 0.9998458677019378\n",
            "Epoch 65 complete! Learning Rate: 0.00035647932250560207 Loss: 0.41795897483825684 Accuracy: 0.9998627717092252\n",
            "Epoch 66 complete! Learning Rate: 0.00033865535638032194 Loss: 0.5339604616165161 Accuracy: 0.999857888496615\n",
            "Epoch 67 complete! Learning Rate: 0.00032172258856130585 Loss: 0.4073368310928345 Accuracy: 0.9998745343669212\n",
            "Epoch 68 complete! Learning Rate: 0.0003056364591332405 Loss: 0.45029786229133606 Accuracy: 0.999857634670696\n",
            "Epoch 69 complete! Learning Rate: 0.0002903546361765785 Loss: 0.41540059447288513 Accuracy: 0.9998711742234456\n",
            "Epoch 70 complete! Learning Rate: 0.00027583690436774953 Loss: 0.40397799015045166 Accuracy: 0.9998593212090269\n",
            "Epoch 71 complete! Learning Rate: 0.00026204505914936203 Loss: 0.34632575511932373 Accuracy: 0.999901781252679\n",
            "Epoch 72 complete! Learning Rate: 0.00024894280619189394 Loss: 0.3487936854362488 Accuracy: 0.999886391692402\n",
            "Epoch 73 complete! Learning Rate: 0.00023649566588229923 Loss: 0.3380166292190552 Accuracy: 0.9998950523436035\n",
            "Epoch 74 complete! Learning Rate: 0.00022467088258818426 Loss: 0.34474828839302063 Accuracy: 0.9998848041329177\n",
            "Epoch 75 complete! Learning Rate: 0.00021343733845877503 Loss: 0.31850168108940125 Accuracy: 0.9998864734270003\n",
            "Epoch 76 complete! Learning Rate: 0.00020276547153583627 Loss: 0.33286842703819275 Accuracy: 0.9998916104655294\n",
            "Epoch 77 complete! Learning Rate: 0.00019262719795904446 Loss: 0.3029835522174835 Accuracy: 0.999908587585291\n",
            "Epoch 78 complete! Learning Rate: 0.00018299583806109224 Loss: 0.29403409361839294 Accuracy: 0.9999033774342876\n",
            "Epoch 79 complete! Learning Rate: 0.0001738460461580376 Loss: 0.2775174677371979 Accuracy: 0.9999238093653093\n",
            "Epoch 80 complete! Learning Rate: 0.00016515374385013573 Loss: 0.2837304472923279 Accuracy: 0.9999101967000857\n",
            "Epoch 81 complete! Learning Rate: 0.00015689605665762893 Loss: 0.2736278474330902 Accuracy: 0.9999016952070187\n",
            "Epoch 82 complete! Learning Rate: 0.00014905125382474747 Loss: 0.2572318911552429 Accuracy: 0.9999085058506926\n",
            "Epoch 83 complete! Learning Rate: 0.0001415986911335101 Loss: 0.27325549721717834 Accuracy: 0.9999016952070187\n",
            "Epoch 84 complete! Learning Rate: 0.00013451875657683458 Loss: 0.23104976117610931 Accuracy: 0.9999374306526573\n",
            "Epoch 85 complete! Learning Rate: 0.00012779281874799285 Loss: 0.2552558183670044 Accuracy: 0.9998982490178826\n",
            "Epoch 86 complete! Learning Rate: 0.0001214031778105932 Loss: 0.23355339467525482 Accuracy: 0.9999186809489043\n",
            "Epoch 87 complete! Learning Rate: 0.00011533301892006353 Loss: 0.23766109347343445 Accuracy: 0.9999391989255866\n",
            "Epoch 88 complete! Learning Rate: 0.00010956636797406035 Loss: 0.22402983903884888 Accuracy: 0.9999185992143061\n",
            "Epoch 89 complete! Learning Rate: 0.00010408804957535733 Loss: 0.2376064509153366 Accuracy: 0.9999254915925783\n",
            "Epoch 90 complete! Learning Rate: 9.888364709658946e-05 Loss: 0.2176232635974884 Accuracy: 0.9999049779269583\n",
            "Epoch 91 complete! Learning Rate: 9.393946474175998e-05 Loss: 0.22320561110973358 Accuracy: 0.9999374306526573\n",
            "Epoch 92 complete! Learning Rate: 8.924249150467197e-05 Loss: 0.21848048269748688 Accuracy: 0.9999238093653093\n",
            "Epoch 93 complete! Learning Rate: 8.478036692943837e-05 Loss: 0.21018178761005402 Accuracy: 0.9999374306526573\n",
            "Epoch 94 complete! Learning Rate: 8.054134858296645e-05 Loss: 0.21782414615154266 Accuracy: 0.9999169987216354\n",
            "Epoch 95 complete! Learning Rate: 7.651428115381812e-05 Loss: 0.20748701691627502 Accuracy: 0.9999169169870372\n",
            "Epoch 96 complete! Learning Rate: 7.268856709612721e-05 Loss: 0.2059931606054306 Accuracy: 0.9999033774342876\n",
            "Epoch 97 complete! Learning Rate: 6.905413874132085e-05 Loss: 0.20320095121860504 Accuracy: 0.9999391946145245\n",
            "Epoch 98 complete! Learning Rate: 6.56014318042548e-05 Loss: 0.1979239135980606 Accuracy: 0.9999185992143061\n",
            "Epoch 99 complete! Learning Rate: 6.232136021404205e-05 Loss: 0.202398419380188 Accuracy: 0.9999339844635212\n",
            "Epoch 100 complete! Learning Rate: 5.920529220333995e-05 Loss: 0.1897098571062088 Accuracy: 0.9999287743125178\n",
            "Training finished.\n"
          ]
        }
      ]
    },
    {
      "cell_type": "code",
      "source": [
        "TEMP_DIR = \"/content/drive/MyDrive/CS131FinalProject/Models/f70eb372-b865-4733-a27b-31f930fe47f52024-03-03_00:33:26.147307\"\n",
        "\n",
        "# Graph Training\n",
        "loss = np.load(os.path.join(TEMP_DIR, \"loss.npy\"))\n",
        "train_acc = np.load(os.path.join(TEMP_DIR, \"train_acc.npy\"))\n",
        "val_acc = np.load(os.path.join(TEMP_DIR, \"val_acc.npy\"))\n",
        "epochs = np.arange(100)\n",
        "\n",
        "plt.figure(figsize=(16, 6))\n",
        "\n",
        "plt.subplot(1, 2, 1)\n",
        "plt.plot(epochs, train_acc, label='Training Acc')\n",
        "plt.plot(epochs, val_acc, label='Training Val Acc')\n",
        "plt.title(\"Accuracy During Training\")\n",
        "plt.xlabel('Epoch')\n",
        "plt.ylabel('Balanced Accuracy')\n",
        "plt.legend()\n",
        "\n",
        "plt.subplot(1, 2, 2)\n",
        "plt.plot(epochs, loss, label='Loss')\n",
        "plt.title(\"Loss During Training\")\n",
        "plt.xlabel('Epoch')\n",
        "plt.ylabel('Loss')\n",
        "plt.show()"
      ],
      "metadata": {
        "colab": {
          "base_uri": "https://localhost:8080/",
          "height": 564
        },
        "id": "5z85LZ-qYU7R",
        "outputId": "552a32af-edd7-4074-dbd0-f2a27939a63d"
      },
      "execution_count": null,
      "outputs": [
        {
          "output_type": "display_data",
          "data": {
            "text/plain": [
              "<Figure size 1600x600 with 2 Axes>"
            ],
            "image/png": "[encoded data removed]"
          },
          "metadata": {}
        }
      ]
    },
    {
      "cell_type": "code",
      "source": [
        "# Load test dataset\n",
        "test_data, _, __, test_idxs = loadDataSet(TEMP_DIR, names=[\"train\", \"val\", \"test\"])\n",
        "sampler = SubsetRandomSampler(test_idxs)\n",
        "test_loader = DataLoader(test_data, batch_size=BATCH_SIZE, sampler=sampler)"
      ],
      "metadata": {
        "id": "ZGsG7zO3gUFS"
      },
      "execution_count": null,
      "outputs": []
    },
    {
      "cell_type": "code",
      "source": [
        "def getBestModel(dir):\n",
        "  best_model = -1\n",
        "  for file in os.listdir(dir):\n",
        "    if str(file).isdigit(): best_model = max(best_model, int(file))\n",
        "  return str(best_model)"
      ],
      "metadata": {
        "id": "hxBCzet5hm9C"
      },
      "execution_count": null,
      "outputs": []
    },
    {
      "cell_type": "code",
      "source": [
        "def update_acc(arr, output, labels, target):\n",
        "  idxs = np.where(labels == target)[0]\n",
        "  arr[0] += np.sum((output[idxs] == labels[idxs]).astype(int))\n",
        "  arr[1] += idxs.shape[0]"
      ],
      "metadata": {
        "id": "mCdl3kRplP3t"
      },
      "execution_count": null,
      "outputs": []
    },
    {
      "cell_type": "code",
      "source": [
        "# Eval Model\n",
        "\n",
        "# Load model and get predictions and labels\n",
        "model = HandMLP()\n",
        "checkpoint = torch.load(os.path.join(TEMP_DIR, getBestModel(TEMP_DIR)))\n",
        "model.load_state_dict(checkpoint['model_state_dict'])\n",
        "model.eval()\n",
        "\n",
        "x_acc, e_acc, o_acc = [0, 0], [0, 0], [0, 0]\n",
        "for i, (input, label) in enumerate(test_loader):\n",
        "  with torch.no_grad():\n",
        "    label = label.numpy()\n",
        "    output = model(input)\n",
        "    output = np.argmin(output.numpy() * -1, axis=1)\n",
        "\n",
        "    update_acc(x_acc, output, label, 0)\n",
        "    update_acc(e_acc, output, label, 1)\n",
        "    update_acc(o_acc, output, label, 2)\n",
        "\n",
        "x_acc, e_acc, o_acc = x_acc[0]/x_acc[1], e_acc[0]/e_acc[1], o_acc[0]/o_acc[1]\n",
        "print(x_acc, e_acc, o_acc)"
      ],
      "metadata": {
        "colab": {
          "base_uri": "https://localhost:8080/"
        },
        "id": "EgAnvK2p1zhw",
        "outputId": "d86e8215-24ee-455c-83f5-105bed13a4c1"
      },
      "execution_count": null,
      "outputs": [
        {
          "output_type": "stream",
          "name": "stdout",
          "text": [
            "0.9983628659476117 0.9997159359909099 0.9997176271266207\n"
          ]
        }
      ]
    },
    {
      "cell_type": "code",
      "source": [
        "# Create Histogram\n",
        "categories = ['X', 'E', 'Other']\n",
        "values = [x_acc, e_acc, o_acc]\n",
        "\n",
        "plt.figure(figsize=(16, 6))\n",
        "plt.bar(categories, values, color='skyblue')\n",
        "plt.title('Class Accuracies')\n",
        "plt.xlabel('Classes')\n",
        "plt.ylabel('Accuracy')\n",
        "plt.xticks(rotation=0)\n",
        "plt.show()"
      ],
      "metadata": {
        "colab": {
          "base_uri": "https://localhost:8080/",
          "height": 564
        },
        "id": "aMaoZvyOnp7j",
        "outputId": "8d987eb6-5668-4368-cc68-26bac5c3f974"
      },
      "execution_count": null,
      "outputs": [
        {
          "output_type": "display_data",
          "data": {
            "text/plain": [
              "<Figure size 1600x600 with 1 Axes>"
            ],
            "image/png": "[encoded data removed]"
          },
          "metadata": {}
        }
      ]
    },
    {
      "cell_type": "code",
      "source": [
        "# Measure Average Inference time in ms on CPU\n",
        "\n",
        "test_data = torch.from_numpy(x_data[0]).to(torch.float32)\n",
        "model.eval()\n",
        "\n",
        "for _ in range(TEST_WARMUP):\n",
        "  with torch.no_grad():\n",
        "    _ = model(test_data)\n",
        "\n",
        "start_time = time.time()\n",
        "for i in range(NUM_TESTS):\n",
        "  with torch.no_grad():\n",
        "    _ = model(test_data)\n",
        "\n",
        "elapsed_time = time.time() - start_time\n",
        "elapsed_time_ms = (elapsed_time * 1000) / NUM_TESTS\n",
        "\n",
        "print(f\"Average inference speed is {round(elapsed_time_ms, 3)}ms\")"
      ],
      "metadata": {
        "colab": {
          "base_uri": "https://localhost:8080/"
        },
        "id": "gV7aLC44wEDv",
        "outputId": "11d0625f-3737-44de-f6a2-59c0b434f977"
      },
      "execution_count": null,
      "outputs": [
        {
          "output_type": "stream",
          "name": "stdout",
          "text": [
            "Average inference speed is 0.109ms\n"
          ]
        }
      ]
    }
  ]
}